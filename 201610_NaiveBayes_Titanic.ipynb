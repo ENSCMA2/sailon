{
 "cells": [
  {
   "cell_type": "markdown",
   "metadata": {},
   "source": [
    "# Doing Machine Learning with Kaggle's Titanic Problem (SAIL ON, October 2016)\n",
    "We're finally here: Let's predict who lives and who dies on the Titanic given the passenger manifest records.\n",
    "\n",
    "If you want it for reference, tonight's materials are available:\n",
    " * The [derivation and mathematics of Naive Bayes](http://www.pamelatoman.net/wp/wp-content/uploads/2016/11/201610_NaiveBayes.pdf)\n",
    " * The [handout for hand calculation of scores](http://www.pamelatoman.net/wp/wp-content/uploads/2016/11/201610_NaiveBayesWorksheet.pdf)\n",
    "\n",
    "However, this notebook will treat the math as a given and turn to focusing on the applied data engineering (getting the data into the right format) and critical thinking (figuring out what features to include in the model)."
   ]
  },
  {
   "cell_type": "markdown",
   "metadata": {},
   "source": [
    "### Getting and examining the data\n",
    "The first step is always reading in data and looking at it to get a sense for what it contains.\n",
    "\n",
    "Here's one way to do that in Python:"
   ]
  },
  {
   "cell_type": "code",
   "execution_count": 35,
   "metadata": {
    "collapsed": false
   },
   "outputs": [
    {
     "data": {
      "text/html": [
       "<div>\n",
       "<table border=\"1\" class=\"dataframe\">\n",
       "  <thead>\n",
       "    <tr style=\"text-align: right;\">\n",
       "      <th></th>\n",
       "      <th>Survived</th>\n",
       "      <th>Pclass</th>\n",
       "      <th>Name</th>\n",
       "      <th>Sex</th>\n",
       "      <th>Age</th>\n",
       "      <th>SibSp</th>\n",
       "      <th>Parch</th>\n",
       "      <th>Ticket</th>\n",
       "      <th>Fare</th>\n",
       "      <th>Cabin</th>\n",
       "      <th>Embarked</th>\n",
       "    </tr>\n",
       "    <tr>\n",
       "      <th>PassengerId</th>\n",
       "      <th></th>\n",
       "      <th></th>\n",
       "      <th></th>\n",
       "      <th></th>\n",
       "      <th></th>\n",
       "      <th></th>\n",
       "      <th></th>\n",
       "      <th></th>\n",
       "      <th></th>\n",
       "      <th></th>\n",
       "      <th></th>\n",
       "    </tr>\n",
       "  </thead>\n",
       "  <tbody>\n",
       "    <tr>\n",
       "      <th>1</th>\n",
       "      <td>0</td>\n",
       "      <td>3</td>\n",
       "      <td>Braund, Mr. Owen Harris</td>\n",
       "      <td>male</td>\n",
       "      <td>22.0</td>\n",
       "      <td>1</td>\n",
       "      <td>0</td>\n",
       "      <td>A/5 21171</td>\n",
       "      <td>7.2500</td>\n",
       "      <td>NaN</td>\n",
       "      <td>S</td>\n",
       "    </tr>\n",
       "    <tr>\n",
       "      <th>2</th>\n",
       "      <td>1</td>\n",
       "      <td>1</td>\n",
       "      <td>Cumings, Mrs. John Bradley (Florence Briggs Th...</td>\n",
       "      <td>female</td>\n",
       "      <td>38.0</td>\n",
       "      <td>1</td>\n",
       "      <td>0</td>\n",
       "      <td>PC 17599</td>\n",
       "      <td>71.2833</td>\n",
       "      <td>C85</td>\n",
       "      <td>C</td>\n",
       "    </tr>\n",
       "    <tr>\n",
       "      <th>3</th>\n",
       "      <td>1</td>\n",
       "      <td>3</td>\n",
       "      <td>Heikkinen, Miss. Laina</td>\n",
       "      <td>female</td>\n",
       "      <td>26.0</td>\n",
       "      <td>0</td>\n",
       "      <td>0</td>\n",
       "      <td>STON/O2. 3101282</td>\n",
       "      <td>7.9250</td>\n",
       "      <td>NaN</td>\n",
       "      <td>S</td>\n",
       "    </tr>\n",
       "    <tr>\n",
       "      <th>4</th>\n",
       "      <td>1</td>\n",
       "      <td>1</td>\n",
       "      <td>Futrelle, Mrs. Jacques Heath (Lily May Peel)</td>\n",
       "      <td>female</td>\n",
       "      <td>35.0</td>\n",
       "      <td>1</td>\n",
       "      <td>0</td>\n",
       "      <td>113803</td>\n",
       "      <td>53.1000</td>\n",
       "      <td>C123</td>\n",
       "      <td>S</td>\n",
       "    </tr>\n",
       "    <tr>\n",
       "      <th>5</th>\n",
       "      <td>0</td>\n",
       "      <td>3</td>\n",
       "      <td>Allen, Mr. William Henry</td>\n",
       "      <td>male</td>\n",
       "      <td>35.0</td>\n",
       "      <td>0</td>\n",
       "      <td>0</td>\n",
       "      <td>373450</td>\n",
       "      <td>8.0500</td>\n",
       "      <td>NaN</td>\n",
       "      <td>S</td>\n",
       "    </tr>\n",
       "  </tbody>\n",
       "</table>\n",
       "</div>"
      ],
      "text/plain": [
       "             Survived  Pclass  \\\n",
       "PassengerId                     \n",
       "1                   0       3   \n",
       "2                   1       1   \n",
       "3                   1       3   \n",
       "4                   1       1   \n",
       "5                   0       3   \n",
       "\n",
       "                                                          Name     Sex   Age  \\\n",
       "PassengerId                                                                    \n",
       "1                                      Braund, Mr. Owen Harris    male  22.0   \n",
       "2            Cumings, Mrs. John Bradley (Florence Briggs Th...  female  38.0   \n",
       "3                                       Heikkinen, Miss. Laina  female  26.0   \n",
       "4                 Futrelle, Mrs. Jacques Heath (Lily May Peel)  female  35.0   \n",
       "5                                     Allen, Mr. William Henry    male  35.0   \n",
       "\n",
       "             SibSp  Parch            Ticket     Fare Cabin Embarked  \n",
       "PassengerId                                                          \n",
       "1                1      0         A/5 21171   7.2500   NaN        S  \n",
       "2                1      0          PC 17599  71.2833   C85        C  \n",
       "3                0      0  STON/O2. 3101282   7.9250   NaN        S  \n",
       "4                1      0            113803  53.1000  C123        S  \n",
       "5                0      0            373450   8.0500   NaN        S  "
      ]
     },
     "metadata": {},
     "output_type": "display_data"
    }
   ],
   "source": [
    "from IPython.display import display, HTML  # this lets us get pretty tabular displays of data\n",
    "import pandas as pd  # this is a useful library for working with data\n",
    "\n",
    "all_data = pd.read_csv(\"train.csv\", index_col=0)  # assumes train.csv is in the same folder as this notebook\n",
    "display(all_data[0:5])"
   ]
  },
  {
   "cell_type": "code",
   "execution_count": 36,
   "metadata": {
    "collapsed": false
   },
   "outputs": [
    {
     "data": {
      "text/html": [
       "<div>\n",
       "<table border=\"1\" class=\"dataframe\">\n",
       "  <thead>\n",
       "    <tr style=\"text-align: right;\">\n",
       "      <th></th>\n",
       "      <th>Survived</th>\n",
       "      <th>Pclass</th>\n",
       "      <th>Name</th>\n",
       "      <th>Sex</th>\n",
       "      <th>Age</th>\n",
       "      <th>SibSp</th>\n",
       "      <th>Parch</th>\n",
       "      <th>Ticket</th>\n",
       "      <th>Fare</th>\n",
       "      <th>Cabin</th>\n",
       "      <th>Embarked</th>\n",
       "    </tr>\n",
       "    <tr>\n",
       "      <th>PassengerId</th>\n",
       "      <th></th>\n",
       "      <th></th>\n",
       "      <th></th>\n",
       "      <th></th>\n",
       "      <th></th>\n",
       "      <th></th>\n",
       "      <th></th>\n",
       "      <th></th>\n",
       "      <th></th>\n",
       "      <th></th>\n",
       "      <th></th>\n",
       "    </tr>\n",
       "  </thead>\n",
       "  <tbody>\n",
       "    <tr>\n",
       "      <th>2</th>\n",
       "      <td>1</td>\n",
       "      <td>1</td>\n",
       "      <td>Cumings, Mrs. John Bradley (Florence Briggs Th...</td>\n",
       "      <td>female</td>\n",
       "      <td>38.0</td>\n",
       "      <td>1</td>\n",
       "      <td>0</td>\n",
       "      <td>PC 17599</td>\n",
       "      <td>71.2833</td>\n",
       "      <td>C85</td>\n",
       "      <td>C</td>\n",
       "    </tr>\n",
       "    <tr>\n",
       "      <th>3</th>\n",
       "      <td>1</td>\n",
       "      <td>3</td>\n",
       "      <td>Heikkinen, Miss. Laina</td>\n",
       "      <td>female</td>\n",
       "      <td>26.0</td>\n",
       "      <td>0</td>\n",
       "      <td>0</td>\n",
       "      <td>STON/O2. 3101282</td>\n",
       "      <td>7.9250</td>\n",
       "      <td>NaN</td>\n",
       "      <td>S</td>\n",
       "    </tr>\n",
       "    <tr>\n",
       "      <th>4</th>\n",
       "      <td>1</td>\n",
       "      <td>1</td>\n",
       "      <td>Futrelle, Mrs. Jacques Heath (Lily May Peel)</td>\n",
       "      <td>female</td>\n",
       "      <td>35.0</td>\n",
       "      <td>1</td>\n",
       "      <td>0</td>\n",
       "      <td>113803</td>\n",
       "      <td>53.1000</td>\n",
       "      <td>C123</td>\n",
       "      <td>S</td>\n",
       "    </tr>\n",
       "  </tbody>\n",
       "</table>\n",
       "</div>"
      ],
      "text/plain": [
       "             Survived  Pclass  \\\n",
       "PassengerId                     \n",
       "2                   1       1   \n",
       "3                   1       3   \n",
       "4                   1       1   \n",
       "\n",
       "                                                          Name     Sex   Age  \\\n",
       "PassengerId                                                                    \n",
       "2            Cumings, Mrs. John Bradley (Florence Briggs Th...  female  38.0   \n",
       "3                                       Heikkinen, Miss. Laina  female  26.0   \n",
       "4                 Futrelle, Mrs. Jacques Heath (Lily May Peel)  female  35.0   \n",
       "\n",
       "             SibSp  Parch            Ticket     Fare Cabin Embarked  \n",
       "PassengerId                                                          \n",
       "2                1      0          PC 17599  71.2833   C85        C  \n",
       "3                0      0  STON/O2. 3101282   7.9250   NaN        S  \n",
       "4                1      0            113803  53.1000  C123        S  "
      ]
     },
     "metadata": {},
     "output_type": "display_data"
    }
   ],
   "source": [
    "# We can name which rows to display -- here, rows 1 (inclusive) through 4 (exclusive)\n",
    "# Remember that Python counts from 0...\n",
    "display(all_data[1:4])"
   ]
  },
  {
   "cell_type": "code",
   "execution_count": 37,
   "metadata": {
    "collapsed": false
   },
   "outputs": [
    {
     "name": "stdout",
     "output_type": "stream",
     "text": [
      "PassengerId\n",
      "2    1\n",
      "3    1\n",
      "4    1\n",
      "Name: Survived, dtype: int64\n"
     ]
    }
   ],
   "source": [
    "# We can name a column and rows\n",
    "print all_data[\"Survived\"][1:4]"
   ]
  },
  {
   "cell_type": "code",
   "execution_count": 38,
   "metadata": {
    "collapsed": false
   },
   "outputs": [
    {
     "name": "stdout",
     "output_type": "stream",
     "text": [
      "             Survived  Pclass     Sex\n",
      "PassengerId                          \n",
      "2                   1       1  female\n",
      "3                   1       3  female\n",
      "4                   1       1  female\n"
     ]
    }
   ],
   "source": [
    "# We can get multiple columns by putting them in a list: [\"Survived\", \"Pclass\", \"Sex\"]\n",
    "print all_data[[\"Survived\", \"Pclass\", \"Sex\"]][1:4]"
   ]
  },
  {
   "cell_type": "code",
   "execution_count": 39,
   "metadata": {
    "collapsed": false
   },
   "outputs": [
    {
     "name": "stdout",
     "output_type": "stream",
     "text": [
      "             Survived  Pclass     Sex\n",
      "PassengerId                          \n",
      "2                   1       1  female\n",
      "3                   1       3  female\n",
      "4                   1       1  female\n"
     ]
    }
   ],
   "source": [
    "# The opposite order for \"which rows\" - \"which columns\" also works (but it's weird)\n",
    "print all_data[1:4][[\"Survived\", \"Pclass\", \"Sex\"]]"
   ]
  },
  {
   "cell_type": "markdown",
   "metadata": {},
   "source": [
    "### Separating out the features from the target variable\n",
    "We need to pull out the target variable into a separate data structure from the rest of the features. \n",
    "\n",
    "(Why are we putting the target variable into its own Python variable?  Well, mostly because the implementation of Naive Bayes we're going to use later wants it that way. But also we want to make sure we don't include the target variable as one of our inputs. If the target variable got included as an input by accident, how good would the model's accuracy look?)"
   ]
  },
  {
   "cell_type": "code",
   "execution_count": 40,
   "metadata": {
    "collapsed": false
   },
   "outputs": [],
   "source": [
    "# Let's grab just the survived column and store it as `y` (our target variable)\n",
    "y = all_data[\"Survived\"]"
   ]
  },
  {
   "cell_type": "code",
   "execution_count": 41,
   "metadata": {
    "collapsed": false
   },
   "outputs": [
    {
     "data": {
      "text/plain": [
       "PassengerId\n",
       "1    0\n",
       "2    1\n",
       "3    1\n",
       "4    1\n",
       "5    0\n",
       "Name: Survived, dtype: int64"
      ]
     },
     "metadata": {},
     "output_type": "display_data"
    }
   ],
   "source": [
    "# Let's check it worked\n",
    "display(y[0:5])"
   ]
  },
  {
   "cell_type": "markdown",
   "metadata": {},
   "source": [
    "### Creating a derived matrix containing the bucketed features\n",
    "We'll use `Sex`, `Embarked`, `Cabin`, and `Age` in the model we build together -- and you'll still have many other directions to go when we're done.\n",
    "\n",
    "We need to discretize (bucket) our features for Naive Bayes, so now we will come up with a scheme for discretizing those 4 variables.  In the process, you'll see part of what the pandas library makes easy."
   ]
  },
  {
   "cell_type": "code",
   "execution_count": 42,
   "metadata": {
    "collapsed": false
   },
   "outputs": [
    {
     "data": {
      "text/html": [
       "<div>\n",
       "<table border=\"1\" class=\"dataframe\">\n",
       "  <thead>\n",
       "    <tr style=\"text-align: right;\">\n",
       "      <th></th>\n",
       "      <th>Sex</th>\n",
       "      <th>Embarked</th>\n",
       "      <th>Cabin</th>\n",
       "      <th>Age</th>\n",
       "    </tr>\n",
       "    <tr>\n",
       "      <th>PassengerId</th>\n",
       "      <th></th>\n",
       "      <th></th>\n",
       "      <th></th>\n",
       "      <th></th>\n",
       "    </tr>\n",
       "  </thead>\n",
       "  <tbody>\n",
       "    <tr>\n",
       "      <th>1</th>\n",
       "      <td>male</td>\n",
       "      <td>S</td>\n",
       "      <td>NaN</td>\n",
       "      <td>22.0</td>\n",
       "    </tr>\n",
       "    <tr>\n",
       "      <th>2</th>\n",
       "      <td>female</td>\n",
       "      <td>C</td>\n",
       "      <td>C85</td>\n",
       "      <td>38.0</td>\n",
       "    </tr>\n",
       "    <tr>\n",
       "      <th>3</th>\n",
       "      <td>female</td>\n",
       "      <td>S</td>\n",
       "      <td>NaN</td>\n",
       "      <td>26.0</td>\n",
       "    </tr>\n",
       "    <tr>\n",
       "      <th>4</th>\n",
       "      <td>female</td>\n",
       "      <td>S</td>\n",
       "      <td>C123</td>\n",
       "      <td>35.0</td>\n",
       "    </tr>\n",
       "    <tr>\n",
       "      <th>5</th>\n",
       "      <td>male</td>\n",
       "      <td>S</td>\n",
       "      <td>NaN</td>\n",
       "      <td>35.0</td>\n",
       "    </tr>\n",
       "  </tbody>\n",
       "</table>\n",
       "</div>"
      ],
      "text/plain": [
       "                Sex Embarked Cabin   Age\n",
       "PassengerId                             \n",
       "1              male        S   NaN  22.0\n",
       "2            female        C   C85  38.0\n",
       "3            female        S   NaN  26.0\n",
       "4            female        S  C123  35.0\n",
       "5              male        S   NaN  35.0"
      ]
     },
     "metadata": {},
     "output_type": "display_data"
    }
   ],
   "source": [
    "X = all_data[[\"Sex\", \"Embarked\", \"Cabin\", \"Age\"]]\n",
    "display(X[0:5])"
   ]
  },
  {
   "cell_type": "markdown",
   "metadata": {},
   "source": [
    "Hmm. Our data won't easily facilitate doing the \"counts\" over it that we need, like we did for the class grades example. We need to make each row & column contain either a 0 or a 1.\n",
    "\n",
    "The pandas library has a lot of ways to help us with that. First and foremost, the `get_dummies` function will convert from a single column containing `n` unique strings into `n` columns of 1s and 0s."
   ]
  },
  {
   "cell_type": "code",
   "execution_count": 43,
   "metadata": {
    "collapsed": false
   },
   "outputs": [
    {
     "data": {
      "text/html": [
       "<div>\n",
       "<table border=\"1\" class=\"dataframe\">\n",
       "  <thead>\n",
       "    <tr style=\"text-align: right;\">\n",
       "      <th></th>\n",
       "      <th>female</th>\n",
       "      <th>male</th>\n",
       "    </tr>\n",
       "    <tr>\n",
       "      <th>PassengerId</th>\n",
       "      <th></th>\n",
       "      <th></th>\n",
       "    </tr>\n",
       "  </thead>\n",
       "  <tbody>\n",
       "    <tr>\n",
       "      <th>1</th>\n",
       "      <td>0.0</td>\n",
       "      <td>1.0</td>\n",
       "    </tr>\n",
       "    <tr>\n",
       "      <th>2</th>\n",
       "      <td>1.0</td>\n",
       "      <td>0.0</td>\n",
       "    </tr>\n",
       "    <tr>\n",
       "      <th>3</th>\n",
       "      <td>1.0</td>\n",
       "      <td>0.0</td>\n",
       "    </tr>\n",
       "    <tr>\n",
       "      <th>4</th>\n",
       "      <td>1.0</td>\n",
       "      <td>0.0</td>\n",
       "    </tr>\n",
       "    <tr>\n",
       "      <th>5</th>\n",
       "      <td>0.0</td>\n",
       "      <td>1.0</td>\n",
       "    </tr>\n",
       "  </tbody>\n",
       "</table>\n",
       "</div>"
      ],
      "text/plain": [
       "             female  male\n",
       "PassengerId              \n",
       "1               0.0   1.0\n",
       "2               1.0   0.0\n",
       "3               1.0   0.0\n",
       "4               1.0   0.0\n",
       "5               0.0   1.0"
      ]
     },
     "execution_count": 43,
     "metadata": {},
     "output_type": "execute_result"
    }
   ],
   "source": [
    "# We can use the \"get dummies\" variable to turn a column of words into a different \n",
    "# column for each type of value\n",
    "pd.get_dummies(X[\"Sex\"])[0:5]"
   ]
  },
  {
   "cell_type": "code",
   "execution_count": 44,
   "metadata": {
    "collapsed": false
   },
   "outputs": [
    {
     "data": {
      "text/html": [
       "<div>\n",
       "<table border=\"1\" class=\"dataframe\">\n",
       "  <thead>\n",
       "    <tr style=\"text-align: right;\">\n",
       "      <th></th>\n",
       "      <th>Sex</th>\n",
       "      <th>Embarked</th>\n",
       "      <th>Cabin</th>\n",
       "      <th>Age</th>\n",
       "      <th>female</th>\n",
       "    </tr>\n",
       "    <tr>\n",
       "      <th>PassengerId</th>\n",
       "      <th></th>\n",
       "      <th></th>\n",
       "      <th></th>\n",
       "      <th></th>\n",
       "      <th></th>\n",
       "    </tr>\n",
       "  </thead>\n",
       "  <tbody>\n",
       "    <tr>\n",
       "      <th>1</th>\n",
       "      <td>male</td>\n",
       "      <td>S</td>\n",
       "      <td>NaN</td>\n",
       "      <td>22.0</td>\n",
       "      <td>0.0</td>\n",
       "    </tr>\n",
       "    <tr>\n",
       "      <th>2</th>\n",
       "      <td>female</td>\n",
       "      <td>C</td>\n",
       "      <td>C85</td>\n",
       "      <td>38.0</td>\n",
       "      <td>1.0</td>\n",
       "    </tr>\n",
       "    <tr>\n",
       "      <th>3</th>\n",
       "      <td>female</td>\n",
       "      <td>S</td>\n",
       "      <td>NaN</td>\n",
       "      <td>26.0</td>\n",
       "      <td>1.0</td>\n",
       "    </tr>\n",
       "    <tr>\n",
       "      <th>4</th>\n",
       "      <td>female</td>\n",
       "      <td>S</td>\n",
       "      <td>C123</td>\n",
       "      <td>35.0</td>\n",
       "      <td>1.0</td>\n",
       "    </tr>\n",
       "    <tr>\n",
       "      <th>5</th>\n",
       "      <td>male</td>\n",
       "      <td>S</td>\n",
       "      <td>NaN</td>\n",
       "      <td>35.0</td>\n",
       "      <td>0.0</td>\n",
       "    </tr>\n",
       "  </tbody>\n",
       "</table>\n",
       "</div>"
      ],
      "text/plain": [
       "                Sex Embarked Cabin   Age  female\n",
       "PassengerId                                     \n",
       "1              male        S   NaN  22.0     0.0\n",
       "2            female        C   C85  38.0     1.0\n",
       "3            female        S   NaN  26.0     1.0\n",
       "4            female        S  C123  35.0     1.0\n",
       "5              male        S   NaN  35.0     0.0"
      ]
     },
     "metadata": {},
     "output_type": "display_data"
    }
   ],
   "source": [
    "# Since anyone who isn't female is male, we only need to keep one of them\n",
    "female_dummy_variable = pd.get_dummies(X[\"Sex\"])[\"female\"]        # get the female dummy info\n",
    "X = X.assign(female=female_dummy_variable)  # incorporate it into the X variable\n",
    "\n",
    "display(X[0:5])"
   ]
  },
  {
   "cell_type": "code",
   "execution_count": 45,
   "metadata": {
    "collapsed": false
   },
   "outputs": [
    {
     "data": {
      "text/html": [
       "<div>\n",
       "<table border=\"1\" class=\"dataframe\">\n",
       "  <thead>\n",
       "    <tr style=\"text-align: right;\">\n",
       "      <th></th>\n",
       "      <th>C</th>\n",
       "      <th>Q</th>\n",
       "      <th>S</th>\n",
       "    </tr>\n",
       "    <tr>\n",
       "      <th>PassengerId</th>\n",
       "      <th></th>\n",
       "      <th></th>\n",
       "      <th></th>\n",
       "    </tr>\n",
       "  </thead>\n",
       "  <tbody>\n",
       "    <tr>\n",
       "      <th>1</th>\n",
       "      <td>0.0</td>\n",
       "      <td>0.0</td>\n",
       "      <td>1.0</td>\n",
       "    </tr>\n",
       "    <tr>\n",
       "      <th>2</th>\n",
       "      <td>1.0</td>\n",
       "      <td>0.0</td>\n",
       "      <td>0.0</td>\n",
       "    </tr>\n",
       "    <tr>\n",
       "      <th>3</th>\n",
       "      <td>0.0</td>\n",
       "      <td>0.0</td>\n",
       "      <td>1.0</td>\n",
       "    </tr>\n",
       "    <tr>\n",
       "      <th>4</th>\n",
       "      <td>0.0</td>\n",
       "      <td>0.0</td>\n",
       "      <td>1.0</td>\n",
       "    </tr>\n",
       "    <tr>\n",
       "      <th>5</th>\n",
       "      <td>0.0</td>\n",
       "      <td>0.0</td>\n",
       "      <td>1.0</td>\n",
       "    </tr>\n",
       "  </tbody>\n",
       "</table>\n",
       "</div>"
      ],
      "text/plain": [
       "               C    Q    S\n",
       "PassengerId               \n",
       "1            0.0  0.0  1.0\n",
       "2            1.0  0.0  0.0\n",
       "3            0.0  0.0  1.0\n",
       "4            0.0  0.0  1.0\n",
       "5            0.0  0.0  1.0"
      ]
     },
     "metadata": {},
     "output_type": "display_data"
    }
   ],
   "source": [
    "# Let's do the same thing with embarked, which also needs a separate column for each entry\n",
    "embarked_dummy_variables = pd.get_dummies(X[\"Embarked\"])\n",
    "display(embarked_dummy_variables[0:5])"
   ]
  },
  {
   "cell_type": "code",
   "execution_count": 46,
   "metadata": {
    "collapsed": false
   },
   "outputs": [
    {
     "data": {
      "text/html": [
       "<div>\n",
       "<table border=\"1\" class=\"dataframe\">\n",
       "  <thead>\n",
       "    <tr style=\"text-align: right;\">\n",
       "      <th></th>\n",
       "      <th>Sex</th>\n",
       "      <th>Embarked</th>\n",
       "      <th>Cabin</th>\n",
       "      <th>Age</th>\n",
       "      <th>female</th>\n",
       "      <th>C</th>\n",
       "      <th>Q</th>\n",
       "      <th>S</th>\n",
       "    </tr>\n",
       "    <tr>\n",
       "      <th>PassengerId</th>\n",
       "      <th></th>\n",
       "      <th></th>\n",
       "      <th></th>\n",
       "      <th></th>\n",
       "      <th></th>\n",
       "      <th></th>\n",
       "      <th></th>\n",
       "      <th></th>\n",
       "    </tr>\n",
       "  </thead>\n",
       "  <tbody>\n",
       "    <tr>\n",
       "      <th>1</th>\n",
       "      <td>male</td>\n",
       "      <td>S</td>\n",
       "      <td>NaN</td>\n",
       "      <td>22.0</td>\n",
       "      <td>0.0</td>\n",
       "      <td>0.0</td>\n",
       "      <td>0.0</td>\n",
       "      <td>1.0</td>\n",
       "    </tr>\n",
       "    <tr>\n",
       "      <th>2</th>\n",
       "      <td>female</td>\n",
       "      <td>C</td>\n",
       "      <td>C85</td>\n",
       "      <td>38.0</td>\n",
       "      <td>1.0</td>\n",
       "      <td>1.0</td>\n",
       "      <td>0.0</td>\n",
       "      <td>0.0</td>\n",
       "    </tr>\n",
       "    <tr>\n",
       "      <th>3</th>\n",
       "      <td>female</td>\n",
       "      <td>S</td>\n",
       "      <td>NaN</td>\n",
       "      <td>26.0</td>\n",
       "      <td>1.0</td>\n",
       "      <td>0.0</td>\n",
       "      <td>0.0</td>\n",
       "      <td>1.0</td>\n",
       "    </tr>\n",
       "    <tr>\n",
       "      <th>4</th>\n",
       "      <td>female</td>\n",
       "      <td>S</td>\n",
       "      <td>C123</td>\n",
       "      <td>35.0</td>\n",
       "      <td>1.0</td>\n",
       "      <td>0.0</td>\n",
       "      <td>0.0</td>\n",
       "      <td>1.0</td>\n",
       "    </tr>\n",
       "    <tr>\n",
       "      <th>5</th>\n",
       "      <td>male</td>\n",
       "      <td>S</td>\n",
       "      <td>NaN</td>\n",
       "      <td>35.0</td>\n",
       "      <td>0.0</td>\n",
       "      <td>0.0</td>\n",
       "      <td>0.0</td>\n",
       "      <td>1.0</td>\n",
       "    </tr>\n",
       "  </tbody>\n",
       "</table>\n",
       "</div>"
      ],
      "text/plain": [
       "                Sex Embarked Cabin   Age  female    C    Q    S\n",
       "PassengerId                                                    \n",
       "1              male        S   NaN  22.0     0.0  0.0  0.0  1.0\n",
       "2            female        C   C85  38.0     1.0  1.0  0.0  0.0\n",
       "3            female        S   NaN  26.0     1.0  0.0  0.0  1.0\n",
       "4            female        S  C123  35.0     1.0  0.0  0.0  1.0\n",
       "5              male        S   NaN  35.0     0.0  0.0  0.0  1.0"
      ]
     },
     "metadata": {},
     "output_type": "display_data"
    }
   ],
   "source": [
    "X = X.assign(C=embarked_dummy_variables[\"C\"])  # incorporate it into the X variable\n",
    "X = X.assign(Q=embarked_dummy_variables[\"Q\"])  # incorporate it into the X variable\n",
    "X = X.assign(S=embarked_dummy_variables[\"S\"])  # incorporate it into the X variable\n",
    "\n",
    "display(X[0:5])"
   ]
  },
  {
   "cell_type": "markdown",
   "metadata": {},
   "source": [
    "Now for another challenge.  One way to encode cabin information is to note whether or not the passenger *has* a cabin. Let's do that.\n",
    "\n",
    "Values of `NaN` stand for \"Not a Number\" -- these are the people who didn't have a cabin. Let's identify them."
   ]
  },
  {
   "cell_type": "code",
   "execution_count": 47,
   "metadata": {
    "collapsed": false
   },
   "outputs": [
    {
     "name": "stdout",
     "output_type": "stream",
     "text": [
      "PassengerId\n",
      "1     True\n",
      "2    False\n",
      "3     True\n",
      "4    False\n",
      "5     True\n",
      "Name: Cabin, dtype: bool\n"
     ]
    }
   ],
   "source": [
    "missing_cabin = pd.isnull(X[\"Cabin\"])\n",
    "print missing_cabin[0:5]"
   ]
  },
  {
   "cell_type": "markdown",
   "metadata": {},
   "source": [
    "We wanted numbers, but `True`/`False` will work just as well in Python: `True` evaluates to 1, and `False` evaluates to 0. So let's add in the cabin possession information as well."
   ]
  },
  {
   "cell_type": "code",
   "execution_count": 48,
   "metadata": {
    "collapsed": false
   },
   "outputs": [
    {
     "data": {
      "text/html": [
       "<div>\n",
       "<table border=\"1\" class=\"dataframe\">\n",
       "  <thead>\n",
       "    <tr style=\"text-align: right;\">\n",
       "      <th></th>\n",
       "      <th>Sex</th>\n",
       "      <th>Embarked</th>\n",
       "      <th>Cabin</th>\n",
       "      <th>Age</th>\n",
       "      <th>female</th>\n",
       "      <th>C</th>\n",
       "      <th>Q</th>\n",
       "      <th>S</th>\n",
       "      <th>nocabin</th>\n",
       "    </tr>\n",
       "    <tr>\n",
       "      <th>PassengerId</th>\n",
       "      <th></th>\n",
       "      <th></th>\n",
       "      <th></th>\n",
       "      <th></th>\n",
       "      <th></th>\n",
       "      <th></th>\n",
       "      <th></th>\n",
       "      <th></th>\n",
       "      <th></th>\n",
       "    </tr>\n",
       "  </thead>\n",
       "  <tbody>\n",
       "    <tr>\n",
       "      <th>1</th>\n",
       "      <td>male</td>\n",
       "      <td>S</td>\n",
       "      <td>NaN</td>\n",
       "      <td>22.0</td>\n",
       "      <td>0.0</td>\n",
       "      <td>0.0</td>\n",
       "      <td>0.0</td>\n",
       "      <td>1.0</td>\n",
       "      <td>True</td>\n",
       "    </tr>\n",
       "    <tr>\n",
       "      <th>2</th>\n",
       "      <td>female</td>\n",
       "      <td>C</td>\n",
       "      <td>C85</td>\n",
       "      <td>38.0</td>\n",
       "      <td>1.0</td>\n",
       "      <td>1.0</td>\n",
       "      <td>0.0</td>\n",
       "      <td>0.0</td>\n",
       "      <td>False</td>\n",
       "    </tr>\n",
       "    <tr>\n",
       "      <th>3</th>\n",
       "      <td>female</td>\n",
       "      <td>S</td>\n",
       "      <td>NaN</td>\n",
       "      <td>26.0</td>\n",
       "      <td>1.0</td>\n",
       "      <td>0.0</td>\n",
       "      <td>0.0</td>\n",
       "      <td>1.0</td>\n",
       "      <td>True</td>\n",
       "    </tr>\n",
       "    <tr>\n",
       "      <th>4</th>\n",
       "      <td>female</td>\n",
       "      <td>S</td>\n",
       "      <td>C123</td>\n",
       "      <td>35.0</td>\n",
       "      <td>1.0</td>\n",
       "      <td>0.0</td>\n",
       "      <td>0.0</td>\n",
       "      <td>1.0</td>\n",
       "      <td>False</td>\n",
       "    </tr>\n",
       "    <tr>\n",
       "      <th>5</th>\n",
       "      <td>male</td>\n",
       "      <td>S</td>\n",
       "      <td>NaN</td>\n",
       "      <td>35.0</td>\n",
       "      <td>0.0</td>\n",
       "      <td>0.0</td>\n",
       "      <td>0.0</td>\n",
       "      <td>1.0</td>\n",
       "      <td>True</td>\n",
       "    </tr>\n",
       "  </tbody>\n",
       "</table>\n",
       "</div>"
      ],
      "text/plain": [
       "                Sex Embarked Cabin   Age  female    C    Q    S nocabin\n",
       "PassengerId                                                            \n",
       "1              male        S   NaN  22.0     0.0  0.0  0.0  1.0    True\n",
       "2            female        C   C85  38.0     1.0  1.0  0.0  0.0   False\n",
       "3            female        S   NaN  26.0     1.0  0.0  0.0  1.0    True\n",
       "4            female        S  C123  35.0     1.0  0.0  0.0  1.0   False\n",
       "5              male        S   NaN  35.0     0.0  0.0  0.0  1.0    True"
      ]
     },
     "metadata": {},
     "output_type": "display_data"
    }
   ],
   "source": [
    "X = X.assign(nocabin=missing_cabin)  # incorporate it into the X variable\n",
    "display(X[0:5])"
   ]
  },
  {
   "cell_type": "markdown",
   "metadata": {},
   "source": [
    "And for our final variable conversion, let's bucket Age by time of life."
   ]
  },
  {
   "cell_type": "code",
   "execution_count": 49,
   "metadata": {
    "collapsed": false
   },
   "outputs": [
    {
     "name": "stdout",
     "output_type": "stream",
     "text": [
      "PassengerId\n",
      "4         adult\n",
      "5         adult\n",
      "6           NaN\n",
      "7    olderadult\n",
      "8         child\n",
      "Name: Age, dtype: category\n",
      "Categories (4, object): [child < youngadult < adult < olderadult]\n"
     ]
    }
   ],
   "source": [
    "# Pandas lets us discetize with the cut() method\n",
    "binned_ages = pd.cut(X[\"Age\"], \n",
    "             bins=[0, 14, 25, 50, 150],  # I use a ludicrous maximum age \n",
    "             labels=[\"child\",\"youngadult\",\"adult\",\"olderadult\"]) # roughly: children, young adults and young parents, \n",
    "                                                                 # established folk, older folk\n",
    "\n",
    "print binned_ages[3:8]"
   ]
  },
  {
   "cell_type": "markdown",
   "metadata": {},
   "source": [
    "Uh oh. There are `NaN` values for age -- we forgot about that.  Let's create another age category for `NaN`."
   ]
  },
  {
   "cell_type": "code",
   "execution_count": 50,
   "metadata": {
    "collapsed": false
   },
   "outputs": [
    {
     "name": "stdout",
     "output_type": "stream",
     "text": [
      "PassengerId\n",
      "4         adult\n",
      "5         adult\n",
      "6         noage\n",
      "7    olderadult\n",
      "8         child\n",
      "dtype: category\n",
      "Categories (5, object): [child < youngadult < adult < olderadult < noage]\n"
     ]
    }
   ],
   "source": [
    "binned_ages = binned_ages.cat.add_categories([\"noage\"])   # create a new category\n",
    "binned_ages.fillna(\"noage\", inplace=True)        # fill it \"in-place\" -- without having to use an = to capture it\n",
    "\n",
    "print binned_ages[3:8]\n",
    "\n",
    "# If you get a ValueError when you execute this cell, \n",
    "# it's because you're trying to re-add \"noage\" back into binned_age's categories.\n",
    "# Fix it by rerunning the above cell and then rerunning this one."
   ]
  },
  {
   "cell_type": "code",
   "execution_count": 51,
   "metadata": {
    "collapsed": false
   },
   "outputs": [
    {
     "data": {
      "text/html": [
       "<div>\n",
       "<table border=\"1\" class=\"dataframe\">\n",
       "  <thead>\n",
       "    <tr style=\"text-align: right;\">\n",
       "      <th></th>\n",
       "      <th>Sex</th>\n",
       "      <th>Embarked</th>\n",
       "      <th>Cabin</th>\n",
       "      <th>Age</th>\n",
       "      <th>female</th>\n",
       "      <th>C</th>\n",
       "      <th>Q</th>\n",
       "      <th>S</th>\n",
       "      <th>nocabin</th>\n",
       "      <th>child</th>\n",
       "      <th>youngadult</th>\n",
       "      <th>adult</th>\n",
       "      <th>olderadult</th>\n",
       "      <th>noage</th>\n",
       "    </tr>\n",
       "    <tr>\n",
       "      <th>PassengerId</th>\n",
       "      <th></th>\n",
       "      <th></th>\n",
       "      <th></th>\n",
       "      <th></th>\n",
       "      <th></th>\n",
       "      <th></th>\n",
       "      <th></th>\n",
       "      <th></th>\n",
       "      <th></th>\n",
       "      <th></th>\n",
       "      <th></th>\n",
       "      <th></th>\n",
       "      <th></th>\n",
       "      <th></th>\n",
       "    </tr>\n",
       "  </thead>\n",
       "  <tbody>\n",
       "    <tr>\n",
       "      <th>1</th>\n",
       "      <td>male</td>\n",
       "      <td>S</td>\n",
       "      <td>NaN</td>\n",
       "      <td>22.0</td>\n",
       "      <td>0.0</td>\n",
       "      <td>0.0</td>\n",
       "      <td>0.0</td>\n",
       "      <td>1.0</td>\n",
       "      <td>True</td>\n",
       "      <td>0.0</td>\n",
       "      <td>1.0</td>\n",
       "      <td>0.0</td>\n",
       "      <td>0.0</td>\n",
       "      <td>0.0</td>\n",
       "    </tr>\n",
       "    <tr>\n",
       "      <th>2</th>\n",
       "      <td>female</td>\n",
       "      <td>C</td>\n",
       "      <td>C85</td>\n",
       "      <td>38.0</td>\n",
       "      <td>1.0</td>\n",
       "      <td>1.0</td>\n",
       "      <td>0.0</td>\n",
       "      <td>0.0</td>\n",
       "      <td>False</td>\n",
       "      <td>0.0</td>\n",
       "      <td>0.0</td>\n",
       "      <td>1.0</td>\n",
       "      <td>0.0</td>\n",
       "      <td>0.0</td>\n",
       "    </tr>\n",
       "    <tr>\n",
       "      <th>3</th>\n",
       "      <td>female</td>\n",
       "      <td>S</td>\n",
       "      <td>NaN</td>\n",
       "      <td>26.0</td>\n",
       "      <td>1.0</td>\n",
       "      <td>0.0</td>\n",
       "      <td>0.0</td>\n",
       "      <td>1.0</td>\n",
       "      <td>True</td>\n",
       "      <td>0.0</td>\n",
       "      <td>0.0</td>\n",
       "      <td>1.0</td>\n",
       "      <td>0.0</td>\n",
       "      <td>0.0</td>\n",
       "    </tr>\n",
       "    <tr>\n",
       "      <th>4</th>\n",
       "      <td>female</td>\n",
       "      <td>S</td>\n",
       "      <td>C123</td>\n",
       "      <td>35.0</td>\n",
       "      <td>1.0</td>\n",
       "      <td>0.0</td>\n",
       "      <td>0.0</td>\n",
       "      <td>1.0</td>\n",
       "      <td>False</td>\n",
       "      <td>0.0</td>\n",
       "      <td>0.0</td>\n",
       "      <td>1.0</td>\n",
       "      <td>0.0</td>\n",
       "      <td>0.0</td>\n",
       "    </tr>\n",
       "    <tr>\n",
       "      <th>5</th>\n",
       "      <td>male</td>\n",
       "      <td>S</td>\n",
       "      <td>NaN</td>\n",
       "      <td>35.0</td>\n",
       "      <td>0.0</td>\n",
       "      <td>0.0</td>\n",
       "      <td>0.0</td>\n",
       "      <td>1.0</td>\n",
       "      <td>True</td>\n",
       "      <td>0.0</td>\n",
       "      <td>0.0</td>\n",
       "      <td>1.0</td>\n",
       "      <td>0.0</td>\n",
       "      <td>0.0</td>\n",
       "    </tr>\n",
       "  </tbody>\n",
       "</table>\n",
       "</div>"
      ],
      "text/plain": [
       "                Sex Embarked Cabin   Age  female    C    Q    S nocabin  \\\n",
       "PassengerId                                                               \n",
       "1              male        S   NaN  22.0     0.0  0.0  0.0  1.0    True   \n",
       "2            female        C   C85  38.0     1.0  1.0  0.0  0.0   False   \n",
       "3            female        S   NaN  26.0     1.0  0.0  0.0  1.0    True   \n",
       "4            female        S  C123  35.0     1.0  0.0  0.0  1.0   False   \n",
       "5              male        S   NaN  35.0     0.0  0.0  0.0  1.0    True   \n",
       "\n",
       "             child  youngadult  adult  olderadult  noage  \n",
       "PassengerId                                               \n",
       "1              0.0         1.0    0.0         0.0    0.0  \n",
       "2              0.0         0.0    1.0         0.0    0.0  \n",
       "3              0.0         0.0    1.0         0.0    0.0  \n",
       "4              0.0         0.0    1.0         0.0    0.0  \n",
       "5              0.0         0.0    1.0         0.0    0.0  "
      ]
     },
     "metadata": {},
     "output_type": "display_data"
    }
   ],
   "source": [
    "# Now let's create dummies for age & add them into the dataset X\n",
    "age_dummy_variables = pd.get_dummies(binned_ages)\n",
    "X = X.assign(child=age_dummy_variables[\"child\"])  # incorporate it into the X variable\n",
    "X = X.assign(youngadult=age_dummy_variables[\"youngadult\"])  # incorporate it into the X variable\n",
    "X = X.assign(adult=age_dummy_variables[\"adult\"])  # incorporate it into the X variable\n",
    "X = X.assign(olderadult=age_dummy_variables[\"olderadult\"])  # incorporate it into the X variable\n",
    "X = X.assign(noage=age_dummy_variables[\"noage\"])  # incorporate it into the X variable\n",
    "display(X[0:5])"
   ]
  },
  {
   "cell_type": "markdown",
   "metadata": {},
   "source": [
    "Almost there! Let's keep only the columns with 1s and 0s that we intend to model with."
   ]
  },
  {
   "cell_type": "code",
   "execution_count": 52,
   "metadata": {
    "collapsed": false
   },
   "outputs": [
    {
     "data": {
      "text/html": [
       "<div>\n",
       "<table border=\"1\" class=\"dataframe\">\n",
       "  <thead>\n",
       "    <tr style=\"text-align: right;\">\n",
       "      <th></th>\n",
       "      <th>female</th>\n",
       "      <th>C</th>\n",
       "      <th>Q</th>\n",
       "      <th>S</th>\n",
       "      <th>nocabin</th>\n",
       "      <th>child</th>\n",
       "      <th>youngadult</th>\n",
       "      <th>adult</th>\n",
       "      <th>olderadult</th>\n",
       "      <th>noage</th>\n",
       "    </tr>\n",
       "    <tr>\n",
       "      <th>PassengerId</th>\n",
       "      <th></th>\n",
       "      <th></th>\n",
       "      <th></th>\n",
       "      <th></th>\n",
       "      <th></th>\n",
       "      <th></th>\n",
       "      <th></th>\n",
       "      <th></th>\n",
       "      <th></th>\n",
       "      <th></th>\n",
       "    </tr>\n",
       "  </thead>\n",
       "  <tbody>\n",
       "    <tr>\n",
       "      <th>1</th>\n",
       "      <td>0.0</td>\n",
       "      <td>0.0</td>\n",
       "      <td>0.0</td>\n",
       "      <td>1.0</td>\n",
       "      <td>True</td>\n",
       "      <td>0.0</td>\n",
       "      <td>1.0</td>\n",
       "      <td>0.0</td>\n",
       "      <td>0.0</td>\n",
       "      <td>0.0</td>\n",
       "    </tr>\n",
       "    <tr>\n",
       "      <th>2</th>\n",
       "      <td>1.0</td>\n",
       "      <td>1.0</td>\n",
       "      <td>0.0</td>\n",
       "      <td>0.0</td>\n",
       "      <td>False</td>\n",
       "      <td>0.0</td>\n",
       "      <td>0.0</td>\n",
       "      <td>1.0</td>\n",
       "      <td>0.0</td>\n",
       "      <td>0.0</td>\n",
       "    </tr>\n",
       "    <tr>\n",
       "      <th>3</th>\n",
       "      <td>1.0</td>\n",
       "      <td>0.0</td>\n",
       "      <td>0.0</td>\n",
       "      <td>1.0</td>\n",
       "      <td>True</td>\n",
       "      <td>0.0</td>\n",
       "      <td>0.0</td>\n",
       "      <td>1.0</td>\n",
       "      <td>0.0</td>\n",
       "      <td>0.0</td>\n",
       "    </tr>\n",
       "    <tr>\n",
       "      <th>4</th>\n",
       "      <td>1.0</td>\n",
       "      <td>0.0</td>\n",
       "      <td>0.0</td>\n",
       "      <td>1.0</td>\n",
       "      <td>False</td>\n",
       "      <td>0.0</td>\n",
       "      <td>0.0</td>\n",
       "      <td>1.0</td>\n",
       "      <td>0.0</td>\n",
       "      <td>0.0</td>\n",
       "    </tr>\n",
       "    <tr>\n",
       "      <th>5</th>\n",
       "      <td>0.0</td>\n",
       "      <td>0.0</td>\n",
       "      <td>0.0</td>\n",
       "      <td>1.0</td>\n",
       "      <td>True</td>\n",
       "      <td>0.0</td>\n",
       "      <td>0.0</td>\n",
       "      <td>1.0</td>\n",
       "      <td>0.0</td>\n",
       "      <td>0.0</td>\n",
       "    </tr>\n",
       "  </tbody>\n",
       "</table>\n",
       "</div>"
      ],
      "text/plain": [
       "             female    C    Q    S nocabin  child  youngadult  adult  \\\n",
       "PassengerId                                                            \n",
       "1               0.0  0.0  0.0  1.0    True    0.0         1.0    0.0   \n",
       "2               1.0  1.0  0.0  0.0   False    0.0         0.0    1.0   \n",
       "3               1.0  0.0  0.0  1.0    True    0.0         0.0    1.0   \n",
       "4               1.0  0.0  0.0  1.0   False    0.0         0.0    1.0   \n",
       "5               0.0  0.0  0.0  1.0    True    0.0         0.0    1.0   \n",
       "\n",
       "             olderadult  noage  \n",
       "PassengerId                     \n",
       "1                   0.0    0.0  \n",
       "2                   0.0    0.0  \n",
       "3                   0.0    0.0  \n",
       "4                   0.0    0.0  \n",
       "5                   0.0    0.0  "
      ]
     },
     "metadata": {},
     "output_type": "display_data"
    }
   ],
   "source": [
    "X = X[[\"female\", \"C\", \"Q\", \"S\", \"nocabin\", \"child\", \"youngadult\", \"adult\", \"olderadult\", \"noage\"]]\n",
    "display(X[0:5])"
   ]
  },
  {
   "cell_type": "markdown",
   "metadata": {},
   "source": [
    "### Pulling aside a subset of rows so we can evaluate ourselves\n",
    "We could train a model on all 891 rows in the training data. That would give us a lot of data to use.*  But once we trained the model, we would have no way to know if it was a good model or a poor model!  Maybe the model predicts everyone's survival entirely opposite to what actually happened -- how would we know?\n",
    "\n",
    "So we are going to extract 20% of the training data at random, and reserve it as \"development\" data.  We aren't going to use it in *building* the models.  Instead we are going to use it to *evaluate* the models.  Essentially we're going to say, \"build a model with 80% of the data\", \"now here's 20% that we are pretending has no labels -- what do you predict?\", \"are those predictions actually right?\", \"hmm, okay, let's make this change\", \"build a model with 80% of the data\", ....\n",
    " \n",
    "(\\* 891 rows isn't actually a lot of data)"
   ]
  },
  {
   "cell_type": "code",
   "execution_count": 53,
   "metadata": {
    "collapsed": false
   },
   "outputs": [
    {
     "name": "stdout",
     "output_type": "stream",
     "text": [
      "(712, 10)\n",
      "(712L,)\n",
      "\n",
      "(179, 10)\n",
      "(179L,)\n"
     ]
    }
   ],
   "source": [
    "# The easiest way to get this split is to use a built-in function \n",
    "# from the machine learning library sklearn.  They call it a\n",
    "# \"train-test\" split, but we're going to call it a \"train-development\"\n",
    "# split, since there is a test.csv dataset available from Kaggle.\n",
    "import sklearn\n",
    "from sklearn.cross_validation import train_test_split\n",
    "X_train, X_dev, y_train, y_dev = train_test_split(X, y, test_size=0.2, random_state=42)\n",
    "\n",
    "print X_train.shape  # the training data inputs have 712 rows and 10 columns\n",
    "print y_train.shape  # the training data outputs have 712 rows\n",
    "print\n",
    "print X_dev.shape   # the development data we just created has 179 rows and 10 columns\n",
    "print y_dev.shape   # the development data has 179 rows"
   ]
  },
  {
   "cell_type": "markdown",
   "metadata": {},
   "source": [
    "### Fit a model\n",
    "Now we are going to \"fit\" a basic model.  The mathematical operations come for free inside the models given by sklearn, but before we can actually use the model, we need to learn from data what the right parameters for *this* problem are.  The right values are different for every problem (Titanic vs. grades vs. leaf classification vs. ...).\n",
    "\n",
    "\"Fitting\" a model means learning the correct variables to have the math embedded in the classifier succeed.  For Naive Bayes, that means we're going to learn all of the conditional probabilities in the training data."
   ]
  },
  {
   "cell_type": "code",
   "execution_count": 54,
   "metadata": {
    "collapsed": false
   },
   "outputs": [
    {
     "data": {
      "text/plain": [
       "BernoulliNB(alpha=1.0, binarize=0.0, class_prior=None, fit_prior=True)"
      ]
     },
     "execution_count": 54,
     "metadata": {},
     "output_type": "execute_result"
    }
   ],
   "source": [
    "# Bernoulli Naive Bayes is what we want to use (because all our cell values are either 0 or 1)\n",
    "# We can import an implementation of the model from sklearn\n",
    "from sklearn.naive_bayes import BernoulliNB         \n",
    "\n",
    "clf = BernoulliNB()       # Create a classifier\n",
    "clf.fit(X_train, y_train) # Learn the parameters needed to get the training examples right"
   ]
  },
  {
   "cell_type": "markdown",
   "metadata": {},
   "source": [
    "Let's do a prediction, just for fun..."
   ]
  },
  {
   "cell_type": "code",
   "execution_count": 55,
   "metadata": {
    "collapsed": false
   },
   "outputs": [
    {
     "name": "stdout",
     "output_type": "stream",
     "text": [
      "For this person in the training data:\n"
     ]
    },
    {
     "data": {
      "text/html": [
       "<div>\n",
       "<table border=\"1\" class=\"dataframe\">\n",
       "  <thead>\n",
       "    <tr style=\"text-align: right;\">\n",
       "      <th></th>\n",
       "      <th>female</th>\n",
       "      <th>C</th>\n",
       "      <th>Q</th>\n",
       "      <th>S</th>\n",
       "      <th>nocabin</th>\n",
       "      <th>child</th>\n",
       "      <th>youngadult</th>\n",
       "      <th>adult</th>\n",
       "      <th>olderadult</th>\n",
       "      <th>noage</th>\n",
       "    </tr>\n",
       "    <tr>\n",
       "      <th>PassengerId</th>\n",
       "      <th></th>\n",
       "      <th></th>\n",
       "      <th></th>\n",
       "      <th></th>\n",
       "      <th></th>\n",
       "      <th></th>\n",
       "      <th></th>\n",
       "      <th></th>\n",
       "      <th></th>\n",
       "      <th></th>\n",
       "    </tr>\n",
       "  </thead>\n",
       "  <tbody>\n",
       "    <tr>\n",
       "      <th>332</th>\n",
       "      <td>0.0</td>\n",
       "      <td>0.0</td>\n",
       "      <td>0.0</td>\n",
       "      <td>1.0</td>\n",
       "      <td>False</td>\n",
       "      <td>0.0</td>\n",
       "      <td>0.0</td>\n",
       "      <td>1.0</td>\n",
       "      <td>0.0</td>\n",
       "      <td>0.0</td>\n",
       "    </tr>\n",
       "  </tbody>\n",
       "</table>\n",
       "</div>"
      ],
      "text/plain": [
       "             female    C    Q    S nocabin  child  youngadult  adult  \\\n",
       "PassengerId                                                            \n",
       "332             0.0  0.0  0.0  1.0   False    0.0         0.0    1.0   \n",
       "\n",
       "             olderadult  noage  \n",
       "PassengerId                     \n",
       "332                 0.0    0.0  "
      ]
     },
     "metadata": {},
     "output_type": "display_data"
    },
    {
     "name": "stdout",
     "output_type": "stream",
     "text": [
      "who is apparently an adult male with a cabin who embarked at S...\n",
      "\n",
      "Our model predicts:\n",
      "[0]\n",
      "(that he died)\n",
      "\n",
      "And the truth is:\n",
      "PassengerId\n",
      "332    0\n",
      "Name: Survived, dtype: int64\n",
      "(he unfortunately did die)\n"
     ]
    }
   ],
   "source": [
    "print \"For this person in the training data:\"\n",
    "display(X_train[0:1])\n",
    "print \"who is apparently an adult male with a cabin who embarked at S...\"\n",
    "print\n",
    "print \"Our model predicts:\"\n",
    "print clf.predict(X_train[0:1])\n",
    "print \"(that he died)\"\n",
    "print\n",
    "print \"And the truth is:\"\n",
    "print y_train[0:1]\n",
    "print \"(he unfortunately did die)\""
   ]
  },
  {
   "cell_type": "markdown",
   "metadata": {},
   "source": [
    "### Estimate how well we're doing\n",
    "Now that we have a model, let's see how well it does on the 20% of data we held out earlier.\n",
    "\n",
    "We'll use accuracy as our metric for \"goodness of model\" for now: What percent of the rows did our model get right?  (As a side note -- accuracy isn't the best measure, but it's very easy to understand.)"
   ]
  },
  {
   "cell_type": "code",
   "execution_count": 56,
   "metadata": {
    "collapsed": false
   },
   "outputs": [
    {
     "name": "stdout",
     "output_type": "stream",
     "text": [
      "0.787709497207\n"
     ]
    }
   ],
   "source": [
    "from sklearn.metrics import accuracy_score\n",
    "\n",
    "predictions_on_dev = clf.predict(X_dev)  # Let's run the dev dataset through the predictor function\n",
    "print accuracy_score(y_dev, predictions_on_dev)"
   ]
  },
  {
   "cell_type": "markdown",
   "metadata": {},
   "source": [
    "Woohoo! We're getting about 79% correct! \n",
    "\n",
    "Remember this is an estimate based on the 20% of the training data that we are calling \"dev\".  The test data available on the Kaggle website is the official test. Their test data includes *only* the input variables -- the \"Survived\" column has been redacted.  The only way to see how well your model is doing on entirely unseen data is to post a score on Kaggle.\n",
    "\n",
    "An accuracy of 79% is good, but there's still more improvements to be had -- a very good score is around 82%.  How well can you score?"
   ]
  },
  {
   "cell_type": "markdown",
   "metadata": {},
   "source": [
    "### Going further\n",
    "\n",
    "Some ideas you might want to investigate:\n",
    "  * Read the documentation about the variables online if you haven't already -- knowing your data always helps.\n",
    "  * Choose one or more of `SibSp`, `Parch`, `Fare` and include it. Does model performance go up? \n",
    "  * Vary how variables are bucketed and see how performance is affected.\n",
    "  * Think about and include some new features based directly on information in your training data.  (Maybe information from their names, like presence of \"O'\" or \"ski\" -- this could get at the effect of ethnicity on survival? Maybe information derived from their cabin assigment or lack thereof? Something else?)\n",
    "  * If you create entirely new features (like \"is a female with a cheap fare\" or \"number of family members on board\"), does that help performance?\n",
    "  * If you had to choose just a single variable to build a model on, what would it be? How well would it do?\n",
    "  * Can you interpret what the current model is doingn into English?  What sorts of things does the model indicate are driving survival?\n",
    "  \n",
    "And if you're feeling very bold:\n",
    "  * Can you figure out any ways to fill in `NaN` values with reasonable guesses based on the other information we have?\n",
    "  * Can you write the code that applies the model you learned on the training data to the test data? (This requires reading in a new file, transforming it in exactly the same way as your previous data, and running your trained model against the new data. The output file format that Kaggle wants is a .csv file with two headers: PassengerId and Survived.  The file `genderclassmodel.csv` on their website is in the format they need for submissions.)\n",
    "  * What does the `alpha` parameter to the `BernoulliNB` model do in the [docs](http://scikit-learn.org/stable/modules/generated/sklearn.naive_bayes.BernoulliNB.html)?  Is it helpful to use `alpha`? (Try googling for the terms in the description alongside the word \"Naive Bayes\", maybe with a helpful term like \"example\" thrown in.)\n",
    "  * Instead of predicting survival, can you predict sex?\n",
    "\n",
    "In favor of getting you a deep understanding of Naive Bayes, we skipped over some general modeling \"musts\" that we'll touch on more in the future.  These include: (1) don't ever look at your test data, (2) cross-validation is your friend, and (3) there are better scoring metrics than accuracy.  Don't worry about these for now -- we will get there.  But if you're done with everything else and still thirsting for more, you might also try googing for explanations of these."
   ]
  }
 ],
 "metadata": {
  "anaconda-cloud": {},
  "kernelspec": {
   "display_name": "Python [conda root]",
   "language": "python",
   "name": "conda-root-py"
  },
  "language_info": {
   "codemirror_mode": {
    "name": "ipython",
    "version": 2
   },
   "file_extension": ".py",
   "mimetype": "text/x-python",
   "name": "python",
   "nbconvert_exporter": "python",
   "pygments_lexer": "ipython2",
   "version": "2.7.12"
  }
 },
 "nbformat": 4,
 "nbformat_minor": 1
}
