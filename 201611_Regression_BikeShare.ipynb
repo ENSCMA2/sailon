{
 "cells": [
  {
   "cell_type": "markdown",
   "metadata": {},
   "source": [
    "# Regression in Python: \n",
    "## Supporting the environment by modeling bike share needs"
   ]
  },
  {
   "cell_type": "markdown",
   "metadata": {},
   "source": [
    "We're going to work with bike share data.  This is an environmentally friendly solution to the \"last mile\" problem that people working in urban planning talk about. The challenge is that public transit is excellent for thoroughfares, but most people have about a mile at one or the other or both ends of their journey that does not easily connect to public transit.  Many people choose to drive rather than walk that last mile or take an out-of-the-way bus route that takes an additional portion of an hour.  If we want people to use environmentally sustainable methods of transit that do not hurt the planet, we can provide bikes to people leaving transit areas and every block or two blocks in a city.  This is bike share.\n",
    "\n",
    "But for bike share to work, you need to know how many bikes are needed, and where they are needed. (There are redistribution methods going on all day long -- people's jobs are to load bikes onto trucks and move them around the city to match expectations about needs, and there's a big logistics AI challenge in figuring out the optimal path through the city to do redistribution the most efficiently and with the least environmental impact.)  We're going to look at the first question in this notebook."
   ]
  },
  {
   "cell_type": "markdown",
   "metadata": {},
   "source": [
    "First step: Pull in the data.  Look at it to make sure it is what you expect.\n",
    "\n",
    "You'll need to download it first. Here are two sources:\n",
    "\n",
    "- http://archive.ics.uci.edu/ml/machine-learning-databases/00275/ \n",
    "- https://github.com/valeriansaliou/lab-machinelearning/tree/master/data\n"
   ]
  },
  {
   "cell_type": "code",
   "execution_count": 1,
   "metadata": {
    "collapsed": false,
    "scrolled": true
   },
   "outputs": [
    {
     "name": "stdout",
     "output_type": "stream",
     "text": [
      "Index([u'instant', u'dteday', u'season', u'yr', u'mnth', u'holiday',\n",
      "       u'weekday', u'workingday', u'weathersit', u'temp', u'atemp', u'hum',\n",
      "       u'windspeed', u'casual', u'registered', u'cnt'],\n",
      "      dtype='object')\n",
      "   instant      dteday  season  yr  mnth  holiday  weekday  workingday  \\\n",
      "0        1  2011-01-01       1   0     1        0        6           0   \n",
      "1        2  2011-01-02       1   0     1        0        0           0   \n",
      "2        3  2011-01-03       1   0     1        0        1           1   \n",
      "3        4  2011-01-04       1   0     1        0        2           1   \n",
      "4        5  2011-01-05       1   0     1        0        3           1   \n",
      "\n",
      "   weathersit      temp     atemp       hum  windspeed  casual  registered  \\\n",
      "0           2  0.344167  0.363625  0.805833   0.160446     331         654   \n",
      "1           2  0.363478  0.353739  0.696087   0.248539     131         670   \n",
      "2           1  0.196364  0.189405  0.437273   0.248309     120        1229   \n",
      "3           1  0.200000  0.212122  0.590435   0.160296     108        1454   \n",
      "4           1  0.226957  0.229270  0.436957   0.186900      82        1518   \n",
      "\n",
      "    cnt  \n",
      "0   985  \n",
      "1   801  \n",
      "2  1349  \n",
      "3  1562  \n",
      "4  1600  \n"
     ]
    }
   ],
   "source": [
    "import pandas as pd\n",
    "\n",
    "data = pd.read_csv(\"day.csv\")\n",
    "print data.columns # these are the columns available\n",
    "print data[0:5] # these are the first 5 rows"
   ]
  },
  {
   "cell_type": "markdown",
   "metadata": {},
   "source": [
    "Let's now create a regression model. We can find an appropriate model quickly through googling for something like \"linear regression sklearn\" and reading the documentation.  Examples are good to look at!"
   ]
  },
  {
   "cell_type": "code",
   "execution_count": 2,
   "metadata": {
    "collapsed": true
   },
   "outputs": [],
   "source": [
    "from sklearn import linear_model\n",
    "reg = linear_model.LinearRegression()"
   ]
  },
  {
   "cell_type": "markdown",
   "metadata": {},
   "source": [
    "We choose some predictor variables (from the columns in the dataset) and a target variable (from the columns in the dataset).  The source variables are X; the target variable is y.  We look at them again to make sure they make sense.  We must have at least 2 columns in X to do prediction with sklearn."
   ]
  },
  {
   "cell_type": "code",
   "execution_count": 3,
   "metadata": {
    "collapsed": false
   },
   "outputs": [
    {
     "name": "stdout",
     "output_type": "stream",
     "text": [
      "       temp  workingday\n",
      "0  0.344167           0\n",
      "1  0.363478           0\n",
      "2  0.196364           1\n",
      "3  0.200000           1\n",
      "4  0.226957           1\n"
     ]
    }
   ],
   "source": [
    "X = data[[\"temp\", \"workingday\"]]\n",
    "print X[0:5]"
   ]
  },
  {
   "cell_type": "code",
   "execution_count": 4,
   "metadata": {
    "collapsed": false
   },
   "outputs": [
    {
     "name": "stdout",
     "output_type": "stream",
     "text": [
      "0    331\n",
      "1    131\n",
      "2    120\n",
      "3    108\n",
      "4     82\n",
      "Name: casual, dtype: int64\n"
     ]
    }
   ],
   "source": [
    "y = data[\"casual\"]  # number of casual riders\n",
    "print y[0:5]"
   ]
  },
  {
   "cell_type": "markdown",
   "metadata": {},
   "source": [
    "Now we \"fit\" a regression model to X and y.  That is, we find the set of weights `W` on `temp` and `workingday` that produce `casual`.\n",
    "\n",
    "`W` is implicit and hidden inside of the variable `reg` once the `fit` method completes."
   ]
  },
  {
   "cell_type": "code",
   "execution_count": 5,
   "metadata": {
    "collapsed": false
   },
   "outputs": [
    {
     "data": {
      "text/plain": [
       "LinearRegression(copy_X=True, fit_intercept=True, n_jobs=1, normalize=False)"
      ]
     },
     "execution_count": 5,
     "metadata": {},
     "output_type": "execute_result"
    }
   ],
   "source": [
    "reg.fit(X,y)"
   ]
  },
  {
   "cell_type": "markdown",
   "metadata": {},
   "source": [
    "We can get the weights through `reg.coef_` (which stands for the \"coefficients\" of regression).  These are the weights associated each column in the regression.  They give a sense of how much a change in 1 unit to each input variable (like temperature) produces in change to the output variable (like count of riders).  The coefficient order corresponds to the X column order."
   ]
  },
  {
   "cell_type": "code",
   "execution_count": 6,
   "metadata": {
    "collapsed": false
   },
   "outputs": [
    {
     "data": {
      "text/plain": [
       "array([ 2146.13419876,  -809.03115377])"
      ]
     },
     "execution_count": 6,
     "metadata": {},
     "output_type": "execute_result"
    }
   ],
   "source": [
    "reg.coef_"
   ]
  },
  {
   "cell_type": "markdown",
   "metadata": {},
   "source": [
    "We can also get the intercept through `reg.intercept_`.  The intercept is also called the \"offset\" or \"bias\"."
   ]
  },
  {
   "cell_type": "code",
   "execution_count": 7,
   "metadata": {
    "collapsed": false
   },
   "outputs": [
    {
     "data": {
      "text/plain": [
       "338.38711661893797"
      ]
     },
     "execution_count": 7,
     "metadata": {},
     "output_type": "execute_result"
    }
   ],
   "source": [
    "reg.intercept_"
   ]
  },
  {
   "cell_type": "markdown",
   "metadata": {},
   "source": [
    "Now we can predict on new data. For instance, if the temperature (normalized) is 0.34 and it is a not working day, how many people do we predict will ride casually?  (If you want more information on how the temperature is normalized and thus what this temperature means in degrees, you need to read the notes on the dataset.)"
   ]
  },
  {
   "cell_type": "code",
   "execution_count": 8,
   "metadata": {
    "collapsed": false
   },
   "outputs": [
    {
     "data": {
      "text/plain": [
       "array([ 1068.0727442])"
      ]
     },
     "execution_count": 8,
     "metadata": {},
     "output_type": "execute_result"
    }
   ],
   "source": [
    "reg.predict([[0.34, 0]])"
   ]
  },
  {
   "cell_type": "markdown",
   "metadata": {},
   "source": [
    "We can verify that the prediction is doing what we think it is by multiplying out explicitly:"
   ]
  },
  {
   "cell_type": "code",
   "execution_count": 9,
   "metadata": {
    "collapsed": false
   },
   "outputs": [
    {
     "data": {
      "text/plain": [
       "1068.0727441973381"
      ]
     },
     "execution_count": 9,
     "metadata": {},
     "output_type": "execute_result"
    }
   ],
   "source": [
    "(0.34 * 2146.13419876) + (0 * -809.03115377) + 338.38711661893797"
   ]
  },
  {
   "cell_type": "markdown",
   "metadata": {},
   "source": [
    "Here's a thought question: What are the relative sizes of the coefficients if one of the predictor X variables is on the order of 10,000-2,000,000 (like home prices) and another of the predictor X variables is on the order of 0-4 (like number of bathrooms in a single family home)?  How does this affect our interpretation of the weights on each variable? For tangibility, let's say we're predicting number of bids on the home before the seller says \"yes\" -- but the target variable doesn't matter. All kinds of problems have this sort of set up.\n",
    "\n",
    "We usually normalize all the predictor variables to be in the range 0-1 -- this can help with interpretation, and some machine learning methods have an assumption that the data is set up that way.  Some normalizations have already been applied to this particular dataset, but in arbitrary data we will search google for \"sklearn normalization and centering\" and use a preprocessing step from the documentation that emerges, like the `StandardScaler` -- or write our own if we have a good theoretical reason to use a different normalization.  Can you figure out how to normalize the data and build a model?"
   ]
  },
  {
   "cell_type": "markdown",
   "metadata": {},
   "source": [
    "## Modeling in a way that allows evaluation\n",
    "Well, we built a model using all the data. But if we do this, we have no way to tell how well the model is performing.\n",
    "\n",
    "We can split the data into 2 sections (or more) at random, and train on part of the data and test on the other part of the data.  We do this with the train/test split.  If you forget what the name is, you can google for \"train test split sklearn\", and you'll get the documentation.\n",
    "\n",
    "Note that sklearn changed the format of its code between 0.17 and 0.18, and so the train/test split import is different in 0.17 and 0.18. The below uses 0.18."
   ]
  },
  {
   "cell_type": "code",
   "execution_count": 10,
   "metadata": {
    "collapsed": false
   },
   "outputs": [
    {
     "name": "stdout",
     "output_type": "stream",
     "text": [
      "(489, 2)\n",
      "(242, 2)\n",
      "\n",
      "(489L,)\n",
      "(242L,)\n"
     ]
    }
   ],
   "source": [
    "from sklearn.model_selection import train_test_split\n",
    "\n",
    "X_train, X_test, y_train, y_test = train_test_split(X, y, test_size=0.33, random_state=42)\n",
    "\n",
    "print X_train.shape\n",
    "print X_test.shape\n",
    "print\n",
    "print y_train.shape\n",
    "print y_test.shape"
   ]
  },
  {
   "cell_type": "markdown",
   "metadata": {},
   "source": [
    "We fit again, using the training subset of data."
   ]
  },
  {
   "cell_type": "code",
   "execution_count": 11,
   "metadata": {
    "collapsed": false
   },
   "outputs": [
    {
     "data": {
      "text/plain": [
       "LinearRegression(copy_X=True, fit_intercept=True, n_jobs=1, normalize=False)"
      ]
     },
     "execution_count": 11,
     "metadata": {},
     "output_type": "execute_result"
    }
   ],
   "source": [
    "reg.fit(X_train, y_train)"
   ]
  },
  {
   "cell_type": "markdown",
   "metadata": {},
   "source": [
    "Okay, let's evaluate the model now.  We can google for \"sklearn regression evaluation metrics\" and skim down the page until we find the section on regression and a metric that makes sense. You can read about all of them, but a common one is \"mean squared error\" -- so that's what we use.\n",
    "\n",
    "We import it. We predict values for the test set. And then we check how close those values are to being \"correct\", using mean squared error."
   ]
  },
  {
   "cell_type": "code",
   "execution_count": 12,
   "metadata": {
    "collapsed": false
   },
   "outputs": [
    {
     "name": "stdout",
     "output_type": "stream",
     "text": [
      "157476.29879\n"
     ]
    }
   ],
   "source": [
    "from sklearn.metrics import mean_squared_error\n",
    "\n",
    "y_pred = reg.predict(X_test)\n",
    "\n",
    "# With 2 predictor variables\n",
    "print mean_squared_error(y_test, y_pred)"
   ]
  },
  {
   "cell_type": "markdown",
   "metadata": {
    "collapsed": false
   },
   "source": [
    "This number is pretty meaningless on its own. You'll want to compare it to other models. You'll also want to plot the \"correct\" value vs. the \"predicted\" value for the test set. What would a perfect model look like in that plot? What does the current model's plot look like?\n",
    "\n",
    "You can vary which predictors are being used in X (to use more than just 2), re-split the data, and see if you can improve the performance. You can also try to predict the total `cnt` value or the `registered` variable -- or perhaps see if you can get better performance out of predicting `casual` and `registered` independently and adding them, versus predicting `cnt` directly. Why do you think you get the results you get?"
   ]
  }
 ],
 "metadata": {
  "anaconda-cloud": {},
  "kernelspec": {
   "display_name": "Python [conda root]",
   "language": "python",
   "name": "conda-root-py"
  },
  "language_info": {
   "codemirror_mode": {
    "name": "ipython",
    "version": 2
   },
   "file_extension": ".py",
   "mimetype": "text/x-python",
   "name": "python",
   "nbconvert_exporter": "python",
   "pygments_lexer": "ipython2",
   "version": "2.7.12"
  }
 },
 "nbformat": 4,
 "nbformat_minor": 1
}
